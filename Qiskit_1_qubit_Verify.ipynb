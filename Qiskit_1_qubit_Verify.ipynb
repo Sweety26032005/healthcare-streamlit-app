{
  "nbformat": 4,
  "nbformat_minor": 0,
  "metadata": {
    "colab": {
      "provenance": []
    },
    "kernelspec": {
      "name": "python3",
      "display_name": "Python 3"
    },
    "language_info": {
      "name": "python"
    }
  },
  "cells": [
    {
      "cell_type": "code",
      "source": [
        "!pip install qiskit qiskit-aer --upgrade"
      ],
      "metadata": {
        "id": "Mx6284lurNt1",
        "outputId": "6790dd5d-2cf0-4a14-b1ef-dd948b90621e",
        "colab": {
          "base_uri": "https://localhost:8080/"
        }
      },
      "execution_count": 1,
      "outputs": [
        {
          "output_type": "stream",
          "name": "stdout",
          "text": [
            "Collecting qiskit\n",
            "  Downloading qiskit-2.2.1-cp39-abi3-manylinux2014_x86_64.manylinux_2_17_x86_64.whl.metadata (12 kB)\n",
            "Collecting qiskit-aer\n",
            "  Downloading qiskit_aer-0.17.2-cp312-cp312-manylinux_2_17_x86_64.manylinux2014_x86_64.whl.metadata (8.3 kB)\n",
            "Collecting rustworkx>=0.15.0 (from qiskit)\n",
            "  Downloading rustworkx-0.17.1-cp39-abi3-manylinux_2_17_x86_64.manylinux2014_x86_64.whl.metadata (10 kB)\n",
            "Requirement already satisfied: numpy<3,>=1.17 in /usr/local/lib/python3.12/dist-packages (from qiskit) (2.0.2)\n",
            "Requirement already satisfied: scipy>=1.5 in /usr/local/lib/python3.12/dist-packages (from qiskit) (1.16.2)\n",
            "Requirement already satisfied: dill>=0.3 in /usr/local/lib/python3.12/dist-packages (from qiskit) (0.3.8)\n",
            "Collecting stevedore>=3.0.0 (from qiskit)\n",
            "  Downloading stevedore-5.5.0-py3-none-any.whl.metadata (2.2 kB)\n",
            "Requirement already satisfied: typing-extensions in /usr/local/lib/python3.12/dist-packages (from qiskit) (4.15.0)\n",
            "Requirement already satisfied: psutil>=5 in /usr/local/lib/python3.12/dist-packages (from qiskit-aer) (5.9.5)\n",
            "Requirement already satisfied: python-dateutil>=2.8.0 in /usr/local/lib/python3.12/dist-packages (from qiskit-aer) (2.9.0.post0)\n",
            "Requirement already satisfied: six>=1.5 in /usr/local/lib/python3.12/dist-packages (from python-dateutil>=2.8.0->qiskit-aer) (1.17.0)\n",
            "Downloading qiskit-2.2.1-cp39-abi3-manylinux2014_x86_64.manylinux_2_17_x86_64.whl (8.0 MB)\n",
            "\u001b[2K   \u001b[90m━━━━━━━━━━━━━━━━━━━━━━━━━━━━━━━━━━━━━━━━\u001b[0m \u001b[32m8.0/8.0 MB\u001b[0m \u001b[31m51.2 MB/s\u001b[0m eta \u001b[36m0:00:00\u001b[0m\n",
            "\u001b[?25hDownloading qiskit_aer-0.17.2-cp312-cp312-manylinux_2_17_x86_64.manylinux2014_x86_64.whl (12.4 MB)\n",
            "\u001b[2K   \u001b[90m━━━━━━━━━━━━━━━━━━━━━━━━━━━━━━━━━━━━━━━━\u001b[0m \u001b[32m12.4/12.4 MB\u001b[0m \u001b[31m71.9 MB/s\u001b[0m eta \u001b[36m0:00:00\u001b[0m\n",
            "\u001b[?25hDownloading rustworkx-0.17.1-cp39-abi3-manylinux_2_17_x86_64.manylinux2014_x86_64.whl (2.2 MB)\n",
            "\u001b[2K   \u001b[90m━━━━━━━━━━━━━━━━━━━━━━━━━━━━━━━━━━━━━━━━\u001b[0m \u001b[32m2.2/2.2 MB\u001b[0m \u001b[31m57.7 MB/s\u001b[0m eta \u001b[36m0:00:00\u001b[0m\n",
            "\u001b[?25hDownloading stevedore-5.5.0-py3-none-any.whl (49 kB)\n",
            "\u001b[2K   \u001b[90m━━━━━━━━━━━━━━━━━━━━━━━━━━━━━━━━━━━━━━━━\u001b[0m \u001b[32m49.5/49.5 kB\u001b[0m \u001b[31m3.1 MB/s\u001b[0m eta \u001b[36m0:00:00\u001b[0m\n",
            "\u001b[?25hInstalling collected packages: stevedore, rustworkx, qiskit, qiskit-aer\n",
            "Successfully installed qiskit-2.2.1 qiskit-aer-0.17.2 rustworkx-0.17.1 stevedore-5.5.0\n"
          ]
        }
      ]
    },
    {
      "cell_type": "code",
      "source": [
        "from qiskit import QuantumCircuit\n",
        "from qiskit_aer import AerSimulator"
      ],
      "metadata": {
        "id": "gI17i0yhrQgz"
      },
      "execution_count": 2,
      "outputs": []
    },
    {
      "cell_type": "code",
      "execution_count": 3,
      "metadata": {
        "id": "VPOwLacGrCdU",
        "outputId": "731cf16a-dd6a-4440-fa2b-59e2b3e12f10",
        "colab": {
          "base_uri": "https://localhost:8080/"
        }
      },
      "outputs": [
        {
          "output_type": "stream",
          "name": "stdout",
          "text": [
            "Qiskit AerSimulator test (Qiskit 2.x)\n",
            "Circuit:\n",
            "        ┌───┐ ░ ┌─┐\n",
            "     q: ┤ H ├─░─┤M├\n",
            "        └───┘ ░ └╥┘\n",
            "   c: 1/═════════╬═\n",
            "                 ║ \n",
            "meas: 1/═════════╩═\n",
            "                 0 \n",
            "Counts: {'0 0': 502, '1 0': 522}\n"
          ]
        }
      ],
      "source": [
        "# Verify Qiskit 2.x and AerSimulator\n",
        "from qiskit import QuantumCircuit, transpile\n",
        "from qiskit_aer import AerSimulator\n",
        "\n",
        "print(\"Qiskit AerSimulator test (Qiskit 2.x)\")\n",
        "\n",
        "# simple circuit: create superposition and measure\n",
        "qc = QuantumCircuit(1, 1)\n",
        "qc.h(0)\n",
        "qc.measure_all()\n",
        "\n",
        "print(\"Circuit:\")\n",
        "print(qc.draw())\n",
        "\n",
        "# run on AerSimulator\n",
        "sim = AerSimulator()\n",
        "# compile/transpile for the simulator\n",
        "tqc = transpile(qc, sim)\n",
        "job = sim.run(tqc, shots=1024)\n",
        "result = job.result()\n",
        "counts = result.get_counts()\n",
        "print(\"Counts:\", counts)"
      ]
    },
    {
      "cell_type": "markdown",
      "source": [
        "1: Single-Qubit Superposition (Change Number of Shots)"
      ],
      "metadata": {
        "id": "iutnzo4B-eWm"
      }
    },
    {
      "cell_type": "code",
      "source": [
        "from qiskit import QuantumCircuit, transpile\n",
        "from qiskit_aer import AerSimulator\n",
        "\n",
        "print(\"Task 1: Single-Qubit Superposition (Varying Shots)\")\n",
        "print(\"-\" * 60)\n",
        "\n",
        "sim = AerSimulator(seed_simulator=42)\n",
        "\n",
        "qc = QuantumCircuit(1)\n",
        "qc.h(0)\n",
        "qc.measure_all()\n",
        "\n",
        "shot_counts = [10, 100, 1000, 10000]\n",
        "\n",
        "for shots in shot_counts:\n",
        "    tqc = transpile(qc, sim)\n",
        "    job = sim.run(tqc, shots=shots)\n",
        "    result = job.result()\n",
        "    counts = result.get_counts()\n",
        "\n",
        "    total = sum(counts.values())\n",
        "    zero_pct = counts.get('0', 0) / total * 100\n",
        "    one_pct = counts.get('1', 0) / total * 100\n",
        "\n",
        "    print(f\"Shots: {shots:5d} | Counts: {counts} | 0: {zero_pct:5.1f}% | 1: {one_pct:5.1f}%\")"
      ],
      "metadata": {
        "id": "vmfDI7ZY-f7U",
        "outputId": "3b610ca1-7f72-462a-d481-e99dbd9d2a6b",
        "colab": {
          "base_uri": "https://localhost:8080/"
        }
      },
      "execution_count": 4,
      "outputs": [
        {
          "output_type": "stream",
          "name": "stdout",
          "text": [
            "Task 1: Single-Qubit Superposition (Varying Shots)\n",
            "------------------------------------------------------------\n",
            "Shots:    10 | Counts: {'1': 5, '0': 5} | 0:  50.0% | 1:  50.0%\n",
            "Shots:   100 | Counts: {'1': 51, '0': 49} | 0:  49.0% | 1:  51.0%\n",
            "Shots:  1000 | Counts: {'1': 486, '0': 514} | 0:  51.4% | 1:  48.6%\n",
            "Shots: 10000 | Counts: {'0': 4921, '1': 5079} | 0:  49.2% | 1:  50.8%\n"
          ]
        }
      ]
    },
    {
      "cell_type": "code",
      "source": [
        "qc = QuantumCircuit(2, 2)\n",
        "qc.h(0)\n",
        "qc.h(1)\n",
        "qc.measure_all()\n",
        "\n",
        "tqc = transpile(qc, sim)\n",
        "job = sim.run(tqc, shots=1024)\n",
        "counts = job.result().get_counts()\n",
        "print(\"Two-qubit superposition:\", counts)\n"
      ],
      "metadata": {
        "id": "PTMxx1FS-mrC",
        "outputId": "d7150c83-2251-4186-964a-e0f73dedc8c5",
        "colab": {
          "base_uri": "https://localhost:8080/"
        }
      },
      "execution_count": 5,
      "outputs": [
        {
          "output_type": "stream",
          "name": "stdout",
          "text": [
            "Two-qubit superposition: {'00 00': 243, '01 00': 272, '11 00': 231, '10 00': 278}\n"
          ]
        }
      ]
    },
    {
      "cell_type": "markdown",
      "source": [
        "2: Two-Qubit Superposition"
      ],
      "metadata": {
        "id": "vBOikI8T-q2n"
      }
    },
    {
      "cell_type": "code",
      "source": [
        "from qiskit import QuantumCircuit, transpile\n",
        "from qiskit_aer import AerSimulator\n",
        "\n",
        "print(\"Task 2: Two-Qubit Superposition\")\n",
        "print(\"-\" * 60)\n",
        "\n",
        "sim = AerSimulator(seed_simulator=42)\n",
        "\n",
        "qc = QuantumCircuit(2)\n",
        "qc.h(0)\n",
        "qc.h(1)\n",
        "qc.measure_all()\n",
        "\n",
        "tqc = transpile(qc, sim)\n",
        "job = sim.run(tqc, shots=10000)\n",
        "result = job.result()\n",
        "counts = result.get_counts()\n",
        "\n",
        "print(\"Circuit:\")\n",
        "print(qc.draw())\n",
        "\n",
        "total = sum(counts.values())\n",
        "print(\"\\nCounts (10000 shots):\", counts)\n",
        "\n",
        "for state in ['00', '01', '10', '11']:\n",
        "    pct = counts.get(state, 0) / total * 100\n",
        "    print(f\"State {state}: {counts.get(state, 0):4d} ({pct:5.1f}%)\")\n"
      ],
      "metadata": {
        "id": "_uTDRU2I-ts-",
        "outputId": "f995a658-078a-4c97-b4fc-cdf335d16307",
        "colab": {
          "base_uri": "https://localhost:8080/"
        }
      },
      "execution_count": 6,
      "outputs": [
        {
          "output_type": "stream",
          "name": "stdout",
          "text": [
            "Task 2: Two-Qubit Superposition\n",
            "------------------------------------------------------------\n",
            "Circuit:\n",
            "        ┌───┐ ░ ┌─┐   \n",
            "   q_0: ┤ H ├─░─┤M├───\n",
            "        ├───┤ ░ └╥┘┌─┐\n",
            "   q_1: ┤ H ├─░──╫─┤M├\n",
            "        └───┘ ░  ║ └╥┘\n",
            "meas: 2/═════════╩══╩═\n",
            "                 0  1 \n",
            "\n",
            "Counts (10000 shots): {'10': 2485, '00': 2447, '11': 2499, '01': 2569}\n",
            "State 00: 2447 ( 24.5%)\n",
            "State 01: 2569 ( 25.7%)\n",
            "State 10: 2485 ( 24.9%)\n",
            "State 11: 2499 ( 25.0%)\n"
          ]
        }
      ]
    },
    {
      "cell_type": "markdown",
      "source": [
        "3: Entangled State (Bell State)"
      ],
      "metadata": {
        "id": "eEy5-Tv--7Pm"
      }
    },
    {
      "cell_type": "code",
      "source": [
        "from qiskit import QuantumCircuit, transpile\n",
        "from qiskit_aer import AerSimulator\n",
        "\n",
        "print(\"Task 3: Entangled State (Bell State)\")\n",
        "print(\"-\" * 60)\n",
        "\n",
        "sim = AerSimulator(seed_simulator=42)\n",
        "\n",
        "qc = QuantumCircuit(2)\n",
        "qc.h(0)\n",
        "qc.cx(0, 1)  # Create entanglement\n",
        "qc.measure_all()\n",
        "\n",
        "tqc = transpile(qc, sim)\n",
        "job = sim.run(tqc, shots=1000)\n",
        "result = job.result()\n",
        "counts = result.get_counts()\n",
        "\n",
        "print(\"Circuit:\")\n",
        "print(qc.draw())\n",
        "print(f\"\\nCounts (1000 shots): {counts}\")\n",
        "print(\"Observed states:\", list(counts.keys()))\n"
      ],
      "metadata": {
        "id": "s0uwOjGT-zjR",
        "outputId": "34bc81fc-f2c7-4792-b498-eed07e8d42b6",
        "colab": {
          "base_uri": "https://localhost:8080/"
        }
      },
      "execution_count": 7,
      "outputs": [
        {
          "output_type": "stream",
          "name": "stdout",
          "text": [
            "Task 3: Entangled State (Bell State)\n",
            "------------------------------------------------------------\n",
            "Circuit:\n",
            "        ┌───┐      ░ ┌─┐   \n",
            "   q_0: ┤ H ├──■───░─┤M├───\n",
            "        └───┘┌─┴─┐ ░ └╥┘┌─┐\n",
            "   q_1: ─────┤ X ├─░──╫─┤M├\n",
            "             └───┘ ░  ║ └╥┘\n",
            "meas: 2/══════════════╩══╩═\n",
            "                      0  1 \n",
            "\n",
            "Counts (1000 shots): {'00': 510, '11': 490}\n",
            "Observed states: ['00', '11']\n"
          ]
        }
      ]
    },
    {
      "cell_type": "markdown",
      "source": [
        "4: X Gate (Classical Behavior)"
      ],
      "metadata": {
        "id": "RU9nBsrf_Evo"
      }
    },
    {
      "cell_type": "code",
      "source": [
        "from qiskit import QuantumCircuit, transpile\n",
        "from qiskit_aer import AerSimulator\n",
        "\n",
        "print(\"Task 4: X Gate (Always 1)\")\n",
        "print(\"-\" * 60)\n",
        "\n",
        "sim = AerSimulator(seed_simulator=42)\n",
        "\n",
        "qc = QuantumCircuit(1)\n",
        "qc.x(0)           # Apply NOT gate\n",
        "qc.measure_all()\n",
        "\n",
        "tqc = transpile(qc, sim)\n",
        "job = sim.run(tqc, shots=100)\n",
        "result = job.result()\n",
        "counts = result.get_counts()\n",
        "\n",
        "print(\"Circuit:\")\n",
        "print(qc.draw())\n",
        "print(f\"\\nCounts (100 shots): {counts}\")"
      ],
      "metadata": {
        "id": "9cQwS51l_FwP",
        "outputId": "5440ee46-5561-4715-ed15-45821fd7bd27",
        "colab": {
          "base_uri": "https://localhost:8080/"
        }
      },
      "execution_count": 8,
      "outputs": [
        {
          "output_type": "stream",
          "name": "stdout",
          "text": [
            "Task 4: X Gate (Always 1)\n",
            "------------------------------------------------------------\n",
            "Circuit:\n",
            "        ┌───┐ ░ ┌─┐\n",
            "     q: ┤ X ├─░─┤M├\n",
            "        └───┘ ░ └╥┘\n",
            "meas: 1/═════════╩═\n",
            "                 0 \n",
            "\n",
            "Counts (100 shots): {'1': 100}\n"
          ]
        }
      ]
    },
    {
      "cell_type": "markdown",
      "source": [
        "5: Three-Qubit Superposition (Challenge)\n",
        "\n"
      ],
      "metadata": {
        "id": "WRgSSMdB_OCM"
      }
    },
    {
      "cell_type": "code",
      "source": [
        "from qiskit import QuantumCircuit, transpile\n",
        "from qiskit_aer import AerSimulator\n",
        "\n",
        "print(\"Task 5: Three-Qubit Superposition (Challenge)\")\n",
        "print(\"-\" * 60)\n",
        "\n",
        "sim = AerSimulator(seed_simulator=42)\n",
        "\n",
        "qc = QuantumCircuit(3)\n",
        "qc.h(0)\n",
        "qc.h(1)\n",
        "qc.h(2)\n",
        "qc.measure_all()\n",
        "\n",
        "tqc = transpile(qc, sim)\n",
        "job = sim.run(tqc, shots=8000)\n",
        "result = job.result()\n",
        "counts = result.get_counts()\n",
        "\n",
        "print(\"Circuit:\")\n",
        "print(qc.draw())\n",
        "print(\"\\nState   | Count  | Percentage\")\n",
        "print(\"-\" * 30)\n",
        "\n",
        "total = sum(counts.values())\n",
        "expected_states = ['000','001','010','011','100','101','110','111']\n",
        "\n",
        "for state in expected_states:\n",
        "    count = counts.get(state, 0)\n",
        "    pct = count / total * 100\n",
        "    print(f\"{state}     | {count:5d} | {pct:6.2f}%\")\n"
      ],
      "metadata": {
        "id": "SoMFn3o0_PJV",
        "outputId": "1f278e5b-9e38-4f36-bc1a-4693bdd0c73c",
        "colab": {
          "base_uri": "https://localhost:8080/"
        }
      },
      "execution_count": 9,
      "outputs": [
        {
          "output_type": "stream",
          "name": "stdout",
          "text": [
            "Task 5: Three-Qubit Superposition (Challenge)\n",
            "------------------------------------------------------------\n",
            "Circuit:\n",
            "        ┌───┐ ░ ┌─┐      \n",
            "   q_0: ┤ H ├─░─┤M├──────\n",
            "        ├───┤ ░ └╥┘┌─┐   \n",
            "   q_1: ┤ H ├─░──╫─┤M├───\n",
            "        ├───┤ ░  ║ └╥┘┌─┐\n",
            "   q_2: ┤ H ├─░──╫──╫─┤M├\n",
            "        └───┘ ░  ║  ║ └╥┘\n",
            "meas: 3/═════════╩══╩══╩═\n",
            "                 0  1  2 \n",
            "\n",
            "State   | Count  | Percentage\n",
            "------------------------------\n",
            "000     |   973 |  12.16%\n",
            "001     |  1025 |  12.81%\n",
            "010     |   975 |  12.19%\n",
            "011     |  1016 |  12.70%\n",
            "100     |  1013 |  12.66%\n",
            "101     |  1046 |  13.08%\n",
            "110     |   960 |  12.00%\n",
            "111     |   992 |  12.40%\n"
          ]
        }
      ]
    }
  ]
}