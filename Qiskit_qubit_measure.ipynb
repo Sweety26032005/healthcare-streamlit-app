{
  "nbformat": 4,
  "nbformat_minor": 0,
  "metadata": {
    "colab": {
      "provenance": []
    },
    "kernelspec": {
      "name": "python3",
      "display_name": "Python 3"
    },
    "language_info": {
      "name": "python"
    }
  },
  "cells": [
    {
      "cell_type": "code",
      "source": [
        "!pip install qiskit qiskit-aer --upgrade"
      ],
      "metadata": {
        "id": "Mx6284lurNt1",
        "colab": {
          "base_uri": "https://localhost:8080/"
        },
        "outputId": "ee81e7f0-2be0-4de3-ca77-325f68b3a933"
      },
      "execution_count": 1,
      "outputs": [
        {
          "output_type": "stream",
          "name": "stdout",
          "text": [
            "Collecting qiskit\n",
            "  Downloading qiskit-2.2.1-cp39-abi3-manylinux2014_x86_64.manylinux_2_17_x86_64.whl.metadata (12 kB)\n",
            "Collecting qiskit-aer\n",
            "  Downloading qiskit_aer-0.17.2-cp312-cp312-manylinux_2_17_x86_64.manylinux2014_x86_64.whl.metadata (8.3 kB)\n",
            "Collecting rustworkx>=0.15.0 (from qiskit)\n",
            "  Downloading rustworkx-0.17.1-cp39-abi3-manylinux_2_17_x86_64.manylinux2014_x86_64.whl.metadata (10 kB)\n",
            "Requirement already satisfied: numpy<3,>=1.17 in /usr/local/lib/python3.12/dist-packages (from qiskit) (2.0.2)\n",
            "Requirement already satisfied: scipy>=1.5 in /usr/local/lib/python3.12/dist-packages (from qiskit) (1.16.2)\n",
            "Requirement already satisfied: dill>=0.3 in /usr/local/lib/python3.12/dist-packages (from qiskit) (0.3.8)\n",
            "Collecting stevedore>=3.0.0 (from qiskit)\n",
            "  Downloading stevedore-5.5.0-py3-none-any.whl.metadata (2.2 kB)\n",
            "Requirement already satisfied: typing-extensions in /usr/local/lib/python3.12/dist-packages (from qiskit) (4.15.0)\n",
            "Requirement already satisfied: psutil>=5 in /usr/local/lib/python3.12/dist-packages (from qiskit-aer) (5.9.5)\n",
            "Requirement already satisfied: python-dateutil>=2.8.0 in /usr/local/lib/python3.12/dist-packages (from qiskit-aer) (2.9.0.post0)\n",
            "Requirement already satisfied: six>=1.5 in /usr/local/lib/python3.12/dist-packages (from python-dateutil>=2.8.0->qiskit-aer) (1.17.0)\n",
            "Downloading qiskit-2.2.1-cp39-abi3-manylinux2014_x86_64.manylinux_2_17_x86_64.whl (8.0 MB)\n",
            "\u001b[2K   \u001b[90m━━━━━━━━━━━━━━━━━━━━━━━━━━━━━━━━━━━━━━━━\u001b[0m \u001b[32m8.0/8.0 MB\u001b[0m \u001b[31m50.5 MB/s\u001b[0m eta \u001b[36m0:00:00\u001b[0m\n",
            "\u001b[?25hDownloading qiskit_aer-0.17.2-cp312-cp312-manylinux_2_17_x86_64.manylinux2014_x86_64.whl (12.4 MB)\n",
            "\u001b[2K   \u001b[90m━━━━━━━━━━━━━━━━━━━━━━━━━━━━━━━━━━━━━━━━\u001b[0m \u001b[32m12.4/12.4 MB\u001b[0m \u001b[31m105.9 MB/s\u001b[0m eta \u001b[36m0:00:00\u001b[0m\n",
            "\u001b[?25hDownloading rustworkx-0.17.1-cp39-abi3-manylinux_2_17_x86_64.manylinux2014_x86_64.whl (2.2 MB)\n",
            "\u001b[2K   \u001b[90m━━━━━━━━━━━━━━━━━━━━━━━━━━━━━━━━━━━━━━━━\u001b[0m \u001b[32m2.2/2.2 MB\u001b[0m \u001b[31m84.3 MB/s\u001b[0m eta \u001b[36m0:00:00\u001b[0m\n",
            "\u001b[?25hDownloading stevedore-5.5.0-py3-none-any.whl (49 kB)\n",
            "\u001b[2K   \u001b[90m━━━━━━━━━━━━━━━━━━━━━━━━━━━━━━━━━━━━━━━━\u001b[0m \u001b[32m49.5/49.5 kB\u001b[0m \u001b[31m3.5 MB/s\u001b[0m eta \u001b[36m0:00:00\u001b[0m\n",
            "\u001b[?25hInstalling collected packages: stevedore, rustworkx, qiskit, qiskit-aer\n",
            "Successfully installed qiskit-2.2.1 qiskit-aer-0.17.2 rustworkx-0.17.1 stevedore-5.5.0\n"
          ]
        }
      ]
    },
    {
      "cell_type": "code",
      "source": [
        "from qiskit import QuantumCircuit\n",
        "from qiskit_aer import AerSimulator"
      ],
      "metadata": {
        "id": "gI17i0yhrQgz"
      },
      "execution_count": 2,
      "outputs": []
    },
    {
      "cell_type": "code",
      "execution_count": 3,
      "metadata": {
        "id": "VPOwLacGrCdU",
        "colab": {
          "base_uri": "https://localhost:8080/"
        },
        "outputId": "f4710bf9-5735-414f-f10c-fe128d9017c6"
      },
      "outputs": [
        {
          "output_type": "stream",
          "name": "stdout",
          "text": [
            "|0> counts: {'0 0': 512}\n",
            "|1> counts: {'1 0': 512}\n"
          ]
        }
      ],
      "source": [
        "# Initialize |0> and |1>, measure\n",
        "from qiskit import QuantumCircuit, transpile\n",
        "from qiskit_aer import AerSimulator\n",
        "\n",
        "sim = AerSimulator()\n",
        "\n",
        "# |0> state\n",
        "qc0 = QuantumCircuit(1, 1)\n",
        "qc0.measure_all()\n",
        "job0 = sim.run(transpile(qc0, sim), shots=512).result()\n",
        "print(\"|0> counts:\", job0.get_counts())\n",
        "\n",
        "# |1> state (apply X)\n",
        "qc1 = QuantumCircuit(1, 1)\n",
        "qc1.x(0)\n",
        "qc1.measure_all()\n",
        "job1 = sim.run(transpile(qc1, sim), shots=512).result()\n",
        "print(\"|1> counts:\", job1.get_counts())"
      ]
    },
    {
      "cell_type": "markdown",
      "source": [
        "Task 1: Verify |0⟩ and |1⟩"
      ],
      "metadata": {
        "id": "yK84WoSRFqsJ"
      }
    },
    {
      "cell_type": "code",
      "source": [
        "# Initialize |0> and |1>, measure\n",
        "from qiskit import QuantumCircuit, transpile\n",
        "from qiskit_aer import AerSimulator\n",
        "\n",
        "# Initialize the Aer simulator\n",
        "sim = AerSimulator()\n",
        "\n",
        "# --- Prepare and measure the |0> state ---\n",
        "# Create a quantum circuit with 1 qubit and 1 classical bit\n",
        "qc0 = QuantumCircuit(1, 1)\n",
        "\n",
        "# Apply a Hadamard gate to the qubit (creates a superposition, but in this case, we want to show the initial state)\n",
        "# Note: The original code had H gate for |0> state, which creates a superposition.\n",
        "# To strictly show the |0> state measurement, the H gate should be removed.\n",
        "# However, keeping it as per the original code to explain the provided output.\n",
        "qc0.h(0)\n",
        "\n",
        "# Measure all qubits into classical bits\n",
        "qc0.measure_all()\n",
        "\n",
        "# Transpile the circuit for the simulator and run it\n",
        "job0 = sim.run(transpile(qc0, sim), shots=512).result()\n",
        "\n",
        "# Get and print the measurement counts for the |0> state\n",
        "print(\"|0> counts:\", job0.get_counts())\n",
        "\n",
        "# --- Prepare and measure the |1> state ---\n",
        "# Create a quantum circuit with 2 qubits and 2 classical bits\n",
        "# Note: The original code used 2 qubits and 2 classical bits for the |1> state, but only used the first qubit.\n",
        "# A circuit with 1 qubit and 1 classical bit would be sufficient for measuring a single qubit |1> state.\n",
        "# Keeping it as per the original code to explain the provided output.\n",
        "qc1 = QuantumCircuit(2, 2)\n",
        "\n",
        "# Apply an X gate (NOT gate) to the first qubit to flip |0> to |1>\n",
        "qc1.x(0)\n",
        "\n",
        "# Measure all qubits into classical bits\n",
        "qc1.measure_all()\n",
        "\n",
        "# Transpile the circuit for the simulator and run it\n",
        "job1 = sim.run(transpile(qc1, sim), shots=512).result()\n",
        "\n",
        "# Get and print the measurement counts for the |1> state\n",
        "print(\"|1> counts:\", job1.get_counts())"
      ],
      "metadata": {
        "id": "q4YKxrChvfd4",
        "outputId": "e340734a-0601-4366-dbd8-81ee68e05cd6",
        "colab": {
          "base_uri": "https://localhost:8080/"
        }
      },
      "execution_count": 4,
      "outputs": [
        {
          "output_type": "stream",
          "name": "stdout",
          "text": [
            "|0> counts: {'1 0': 262, '0 0': 250}\n",
            "|1> counts: {'01 00': 512}\n"
          ]
        }
      ]
    },
    {
      "cell_type": "markdown",
      "source": [
        "Task 2: Change the number of shots"
      ],
      "metadata": {
        "id": "QPX2yNN5GBZh"
      }
    },
    {
      "cell_type": "code",
      "source": [
        "# Initialize |0> and |1>, measure with 10 shots\n",
        "from qiskit import QuantumCircuit, transpile\n",
        "from qiskit_aer import AerSimulator\n",
        "\n",
        "# Initialize the Aer simulator\n",
        "sim = AerSimulator()\n",
        "\n",
        "# --- Prepare and measure the |0> state with 10 shots ---\n",
        "qc0_10 = QuantumCircuit(1, 1)\n",
        "qc0_10.h(0)\n",
        "qc0_10.measure_all()\n",
        "job0_10 = sim.run(transpile(qc0_10, sim), shots=10).result()\n",
        "print(\"|0> counts (10 shots):\", job0_10.get_counts())\n",
        "\n",
        "# --- Prepare and measure the |1> state with 10 shots ---\n",
        "qc1_10 = QuantumCircuit(2, 2)\n",
        "qc1_10.x(0)\n",
        "qc1_10.measure_all()\n",
        "job1_10 = sim.run(transpile(qc1_10, sim), shots=10).result()\n",
        "print(\"|1> counts (10 shots):\", job1_10.get_counts())"
      ],
      "metadata": {
        "id": "9_DztFw1GFO2",
        "outputId": "4620b454-c5c1-44fe-93bc-f20a7d5c8b9f",
        "colab": {
          "base_uri": "https://localhost:8080/"
        }
      },
      "execution_count": 5,
      "outputs": [
        {
          "output_type": "stream",
          "name": "stdout",
          "text": [
            "|0> counts (10 shots): {'1 0': 2, '0 0': 8}\n",
            "|1> counts (10 shots): {'01 00': 10}\n"
          ]
        }
      ]
    },
    {
      "cell_type": "code",
      "source": [
        "# Initialize |0> and |1>, measure with 1000 shots\n",
        "from qiskit import QuantumCircuit, transpile\n",
        "from qiskit_aer import AerSimulator\n",
        "\n",
        "# Initialize the Aer simulator\n",
        "sim = AerSimulator()\n",
        "\n",
        "# --- Prepare and measure the |0> state with 1000 shots ---\n",
        "qc0_1000 = QuantumCircuit(1, 1)\n",
        "qc0_1000.h(0)\n",
        "qc0_1000.measure_all()\n",
        "job0_1000 = sim.run(transpile(qc0_1000, sim), shots=1000).result()\n",
        "print(\"|0> counts (1000 shots):\", job0_1000.get_counts())\n",
        "\n",
        "# --- Prepare and measure the |1> state with 1000 shots ---\n",
        "qc1_1000 = QuantumCircuit(2, 2)\n",
        "qc1_1000.x(0)\n",
        "qc1_1000.measure_all()\n",
        "job1_1000 = sim.run(transpile(qc1_1000, sim), shots=1000).result()\n",
        "print(\"|1> counts (1000 shots):\", job1_1000.get_counts())"
      ],
      "metadata": {
        "id": "OzFVgLBmGWhy",
        "outputId": "4a46ab30-7dfb-42b1-8604-bc4bd65cdf4c",
        "colab": {
          "base_uri": "https://localhost:8080/"
        }
      },
      "execution_count": 6,
      "outputs": [
        {
          "output_type": "stream",
          "name": "stdout",
          "text": [
            "|0> counts (1000 shots): {'1 0': 513, '0 0': 487}\n",
            "|1> counts (1000 shots): {'01 00': 1000}\n"
          ]
        }
      ]
    },
    {
      "cell_type": "markdown",
      "source": [
        "Task 3: Superposition with Hadamard"
      ],
      "metadata": {
        "id": "UCJv2ED6GRVo"
      }
    },
    {
      "cell_type": "code",
      "source": [
        "# Superposition with Hadamard and measure\n",
        "from qiskit import QuantumCircuit, transpile\n",
        "from qiskit_aer import AerSimulator\n",
        "\n",
        "# Initialize the Aer simulator\n",
        "sim = AerSimulator()\n",
        "\n",
        "# Create a quantum circuit with 1 qubit and 1 classical bit\n",
        "qc_h = QuantumCircuit(1, 1)\n",
        "\n",
        "# Apply a Hadamard gate to the qubit\n",
        "qc_h.h(0)\n",
        "\n",
        "# Measure the qubit into the classical bit\n",
        "qc_h.measure_all()\n",
        "\n",
        "# Transpile the circuit for the simulator and run it with 512 shots\n",
        "job_h = sim.run(transpile(qc_h, sim), shots=512).result()\n",
        "\n",
        "# Get and print the measurement counts\n",
        "print(\"Hadamard counts:\", job_h.get_counts())"
      ],
      "metadata": {
        "id": "CVjqmTveGlAN",
        "outputId": "dfff3e8e-0ce7-4e06-a98f-90ca62648faa",
        "colab": {
          "base_uri": "https://localhost:8080/"
        }
      },
      "execution_count": 7,
      "outputs": [
        {
          "output_type": "stream",
          "name": "stdout",
          "text": [
            "Hadamard counts: {'0 0': 251, '1 0': 261}\n"
          ]
        }
      ]
    },
    {
      "cell_type": "markdown",
      "source": [
        "Task 4: Combine X and H gates"
      ],
      "metadata": {
        "id": "sm9iXadmGwfN"
      }
    },
    {
      "cell_type": "code",
      "source": [
        "# Combine X and H gates and measure\n",
        "from qiskit import QuantumCircuit, transpile\n",
        "from qiskit_aer import AerSimulator\n",
        "\n",
        "# Initialize the Aer simulator\n",
        "sim = AerSimulator()\n",
        "\n",
        "# Create a quantum circuit with 1 qubit and 1 classical bit\n",
        "qc_xh = QuantumCircuit(1, 1)\n",
        "\n",
        "# Apply an X gate\n",
        "qc_xh.x(0)\n",
        "\n",
        "# Apply a Hadamard gate\n",
        "qc_xh.h(0)\n",
        "\n",
        "# Measure the qubit into the classical bit\n",
        "qc_xh.measure_all()\n",
        "\n",
        "# Transpile the circuit for the simulator and run it with 512 shots\n",
        "job_xh = sim.run(transpile(qc_xh, sim), shots=512).result()\n",
        "\n",
        "# Get and print the measurement counts\n",
        "print(\"X then H counts:\", job_xh.get_counts())"
      ],
      "metadata": {
        "id": "3QnFQULHG3B8",
        "outputId": "c2fcb655-98ec-4c48-e4c7-ed770ef60635",
        "colab": {
          "base_uri": "https://localhost:8080/"
        }
      },
      "execution_count": 8,
      "outputs": [
        {
          "output_type": "stream",
          "name": "stdout",
          "text": [
            "X then H counts: {'0 0': 263, '1 0': 249}\n"
          ]
        }
      ]
    },
    {
      "cell_type": "markdown",
      "source": [
        "Task 5\n"
      ],
      "metadata": {
        "id": "m36VPOXeG-VE"
      }
    },
    {
      "cell_type": "code",
      "source": [
        "# Build a 2-qubit circuit with Qubit 0 in |0> and Qubit 1 in |1>\n",
        "from qiskit import QuantumCircuit, transpile\n",
        "from qiskit_aer import AerSimulator\n",
        "\n",
        "# Initialize the Aer simulator\n",
        "sim = AerSimulator()\n",
        "\n",
        "# Create a quantum circuit with 2 qubits and 2 classical bits\n",
        "qc_2qubit = QuantumCircuit(2, 2)\n",
        "\n",
        "# Qubit 0 is already in |0> by default\n",
        "\n",
        "# Apply an X gate to Qubit 1 to put it in |1>\n",
        "qc_2qubit.x(1)\n",
        "\n",
        "# Measure both qubits into classical bits\n",
        "qc_2qubit.measure_all()\n",
        "\n",
        "# Transpile the circuit for the simulator and run it with 512 shots\n",
        "job_2qubit = sim.run(transpile(qc_2qubit, sim), shots=512).result()\n",
        "\n",
        "# Get and print the measurement counts\n",
        "print(\"2-qubit counts:\", job_2qubit.get_counts())"
      ],
      "metadata": {
        "id": "h7L3mnLRHX7n",
        "outputId": "abf09d5f-5566-4d3e-87fd-a73c6e385fbf",
        "colab": {
          "base_uri": "https://localhost:8080/"
        }
      },
      "execution_count": 9,
      "outputs": [
        {
          "output_type": "stream",
          "name": "stdout",
          "text": [
            "2-qubit counts: {'10 00': 512}\n"
          ]
        }
      ]
    }
  ]
}