{
  "nbformat": 4,
  "nbformat_minor": 0,
  "metadata": {
    "colab": {
      "provenance": []
    },
    "kernelspec": {
      "name": "python3",
      "display_name": "Python 3"
    },
    "language_info": {
      "name": "python"
    }
  },
  "cells": [
    {
      "cell_type": "code",
      "source": [
        "!pip install qiskit qiskit-aer --upgrade"
      ],
      "metadata": {
        "id": "Mx6284lurNt1",
        "outputId": "ffee3ca5-ed5f-4847-bea7-00198eeba781",
        "colab": {
          "base_uri": "https://localhost:8080/"
        }
      },
      "execution_count": 1,
      "outputs": [
        {
          "output_type": "stream",
          "name": "stdout",
          "text": [
            "Collecting qiskit\n",
            "  Downloading qiskit-2.2.1-cp39-abi3-manylinux2014_x86_64.manylinux_2_17_x86_64.whl.metadata (12 kB)\n",
            "Collecting qiskit-aer\n",
            "  Downloading qiskit_aer-0.17.2-cp312-cp312-manylinux_2_17_x86_64.manylinux2014_x86_64.whl.metadata (8.3 kB)\n",
            "Collecting rustworkx>=0.15.0 (from qiskit)\n",
            "  Downloading rustworkx-0.17.1-cp39-abi3-manylinux_2_17_x86_64.manylinux2014_x86_64.whl.metadata (10 kB)\n",
            "Requirement already satisfied: numpy<3,>=1.17 in /usr/local/lib/python3.12/dist-packages (from qiskit) (2.0.2)\n",
            "Requirement already satisfied: scipy>=1.5 in /usr/local/lib/python3.12/dist-packages (from qiskit) (1.16.2)\n",
            "Requirement already satisfied: dill>=0.3 in /usr/local/lib/python3.12/dist-packages (from qiskit) (0.3.8)\n",
            "Collecting stevedore>=3.0.0 (from qiskit)\n",
            "  Downloading stevedore-5.5.0-py3-none-any.whl.metadata (2.2 kB)\n",
            "Requirement already satisfied: typing-extensions in /usr/local/lib/python3.12/dist-packages (from qiskit) (4.15.0)\n",
            "Requirement already satisfied: psutil>=5 in /usr/local/lib/python3.12/dist-packages (from qiskit-aer) (5.9.5)\n",
            "Requirement already satisfied: python-dateutil>=2.8.0 in /usr/local/lib/python3.12/dist-packages (from qiskit-aer) (2.9.0.post0)\n",
            "Requirement already satisfied: six>=1.5 in /usr/local/lib/python3.12/dist-packages (from python-dateutil>=2.8.0->qiskit-aer) (1.17.0)\n",
            "Downloading qiskit-2.2.1-cp39-abi3-manylinux2014_x86_64.manylinux_2_17_x86_64.whl (8.0 MB)\n",
            "\u001b[2K   \u001b[90m━━━━━━━━━━━━━━━━━━━━━━━━━━━━━━━━━━━━━━━━\u001b[0m \u001b[32m8.0/8.0 MB\u001b[0m \u001b[31m68.5 MB/s\u001b[0m eta \u001b[36m0:00:00\u001b[0m\n",
            "\u001b[?25hDownloading qiskit_aer-0.17.2-cp312-cp312-manylinux_2_17_x86_64.manylinux2014_x86_64.whl (12.4 MB)\n",
            "\u001b[2K   \u001b[90m━━━━━━━━━━━━━━━━━━━━━━━━━━━━━━━━━━━━━━━━\u001b[0m \u001b[32m12.4/12.4 MB\u001b[0m \u001b[31m115.4 MB/s\u001b[0m eta \u001b[36m0:00:00\u001b[0m\n",
            "\u001b[?25hDownloading rustworkx-0.17.1-cp39-abi3-manylinux_2_17_x86_64.manylinux2014_x86_64.whl (2.2 MB)\n",
            "\u001b[2K   \u001b[90m━━━━━━━━━━━━━━━━━━━━━━━━━━━━━━━━━━━━━━━━\u001b[0m \u001b[32m2.2/2.2 MB\u001b[0m \u001b[31m62.8 MB/s\u001b[0m eta \u001b[36m0:00:00\u001b[0m\n",
            "\u001b[?25hDownloading stevedore-5.5.0-py3-none-any.whl (49 kB)\n",
            "\u001b[2K   \u001b[90m━━━━━━━━━━━━━━━━━━━━━━━━━━━━━━━━━━━━━━━━\u001b[0m \u001b[32m49.5/49.5 kB\u001b[0m \u001b[31m3.1 MB/s\u001b[0m eta \u001b[36m0:00:00\u001b[0m\n",
            "\u001b[?25hInstalling collected packages: stevedore, rustworkx, qiskit, qiskit-aer\n",
            "Successfully installed qiskit-2.2.1 qiskit-aer-0.17.2 rustworkx-0.17.1 stevedore-5.5.0\n"
          ]
        }
      ]
    },
    {
      "cell_type": "code",
      "execution_count": 2,
      "metadata": {
        "id": "VPOwLacGrCdU",
        "outputId": "72ecd074-fd09-41ed-ff61-50cf06aca9a5",
        "colab": {
          "base_uri": "https://localhost:8080/"
        }
      },
      "outputs": [
        {
          "output_type": "stream",
          "name": "stdout",
          "text": [
            "Quantum Circuit:\n",
            "        ┌───┐            ░ ┌─┐   \n",
            "   q_0: ┤ H ├──■───■──X──░─┤M├───\n",
            "        └───┘┌─┴─┐ │  │  ░ └╥┘┌─┐\n",
            "   q_1: ─────┤ X ├─■──X──░──╫─┤M├\n",
            "             └───┘       ░  ║ └╥┘\n",
            "   c: 2/════════════════════╬══╬═\n",
            "                            ║  ║ \n",
            "meas: 2/════════════════════╩══╩═\n",
            "                            0  1 \n",
            "\n",
            "Measurement Counts: {'11 00': 558, '00 00': 466}\n"
          ]
        }
      ],
      "source": [
        "from qiskit import QuantumCircuit, transpile\n",
        "from qiskit_aer import AerSimulator\n",
        "\n",
        "# Initialize simulator\n",
        "sim = AerSimulator()\n",
        "\n",
        "# Create a 2-qubit circuit\n",
        "qc = QuantumCircuit(2, 2)\n",
        "\n",
        "# --- Apply multi-qubit gates ---\n",
        "qc.h(0)        # Hadamard on qubit 0\n",
        "qc.cx(0, 1)    # CNOT with control 0 and target 1\n",
        "qc.cz(0, 1)    # Controlled-Z\n",
        "qc.swap(0, 1)  # Swap qubit 0 and 1\n",
        "\n",
        "# Measure all qubits\n",
        "qc.measure_all()\n",
        "\n",
        "# Display circuit\n",
        "print(\"Quantum Circuit:\")\n",
        "print(qc.draw())\n",
        "\n",
        "# Run simulation\n",
        "compiled = transpile(qc, sim)\n",
        "result = sim.run(compiled, shots=1024).result()\n",
        "\n",
        "# Display results\n",
        "counts = result.get_counts()\n",
        "print(\"\\nMeasurement Counts:\", counts)\n"
      ]
    },
    {
      "cell_type": "code",
      "source": [
        "##Task 1: Swap Control and Target (CNOT + CZ reversed)\n",
        "qc1 = QuantumCircuit(2, 2)\n",
        "qc1.h(1)        # Optional: superposition on second qubit\n",
        "qc1.cx(1, 0)    # Control = 1, Target = 0\n",
        "qc1.cz(1, 0)    # Controlled-Z reversed\n",
        "qc1.swap(0, 1)\n",
        "qc1.measure_all()\n",
        "\n",
        "compiled1 = transpile(qc1, sim)\n",
        "result1 = sim.run(compiled1, shots=1024).result()\n",
        "counts1 = result1.get_counts()\n",
        "\n",
        "print(qc1.draw())\n",
        "print(\"Measurement Counts:\", counts1)"
      ],
      "metadata": {
        "id": "bq_dSmQutXF_",
        "outputId": "5cd5b963-c782-4f63-fe4e-0b02b0bc07b8",
        "colab": {
          "base_uri": "https://localhost:8080/"
        }
      },
      "execution_count": 3,
      "outputs": [
        {
          "output_type": "stream",
          "name": "stdout",
          "text": [
            "             ┌───┐       ░ ┌─┐   \n",
            "   q_0: ─────┤ X ├─■──X──░─┤M├───\n",
            "        ┌───┐└─┬─┘ │  │  ░ └╥┘┌─┐\n",
            "   q_1: ┤ H ├──■───■──X──░──╫─┤M├\n",
            "        └───┘            ░  ║ └╥┘\n",
            "   c: 2/════════════════════╬══╬═\n",
            "                            ║  ║ \n",
            "meas: 2/════════════════════╩══╩═\n",
            "                            0  1 \n",
            "Measurement Counts: {'00 00': 518, '11 00': 506}\n"
          ]
        }
      ]
    },
    {
      "cell_type": "code",
      "source": [
        "## Task 2: Remove SWAP Gate\n",
        "qc2 = QuantumCircuit(2, 2)\n",
        "qc2.h(0)\n",
        "qc2.cx(0, 1)\n",
        "qc2.cz(0, 1)\n",
        "# qc2.swap(0, 1)  # Removed\n",
        "qc2.measure_all()\n",
        "\n",
        "compiled2 = transpile(qc2, sim)\n",
        "result2 = sim.run(compiled2, shots=1024).result()\n",
        "counts2 = result2.get_counts()\n",
        "\n",
        "print(qc2.draw())\n",
        "print(\"Measurement Counts:\", counts2)"
      ],
      "metadata": {
        "id": "XXSzfpG9q7hc",
        "outputId": "15fe7b0b-fc43-4c39-bca6-1096a4c81f41",
        "colab": {
          "base_uri": "https://localhost:8080/"
        }
      },
      "execution_count": 4,
      "outputs": [
        {
          "output_type": "stream",
          "name": "stdout",
          "text": [
            "        ┌───┐         ░ ┌─┐   \n",
            "   q_0: ┤ H ├──■───■──░─┤M├───\n",
            "        └───┘┌─┴─┐ │  ░ └╥┘┌─┐\n",
            "   q_1: ─────┤ X ├─■──░──╫─┤M├\n",
            "             └───┘    ░  ║ └╥┘\n",
            "   c: 2/═════════════════╬══╬═\n",
            "                         ║  ║ \n",
            "meas: 2/═════════════════╩══╩═\n",
            "                         0  1 \n",
            "Measurement Counts: {'00 00': 505, '11 00': 519}\n"
          ]
        }
      ]
    },
    {
      "cell_type": "code",
      "source": [
        "## Task 3: Add Another Hadamard on Qubit 1 Before CNOT\n",
        "qc3 = QuantumCircuit(2, 2)\n",
        "qc3.h(0)\n",
        "qc3.h(1)        # New Hadamard added here\n",
        "qc3.cx(0, 1)\n",
        "qc3.cz(0, 1)\n",
        "qc3.swap(0, 1)\n",
        "qc3.measure_all()\n",
        "\n",
        "compiled3 = transpile(qc3, sim)\n",
        "result3 = sim.run(compiled3, shots=1024).result()\n",
        "counts3 = result3.get_counts()\n",
        "\n",
        "print(qc3.draw())\n",
        "print(\"Measurement Counts:\", counts3)"
      ],
      "metadata": {
        "id": "eFFG5kPGti5t",
        "outputId": "54684e71-9b77-440b-af9b-50a1c948a2de",
        "colab": {
          "base_uri": "https://localhost:8080/"
        }
      },
      "execution_count": 5,
      "outputs": [
        {
          "output_type": "stream",
          "name": "stdout",
          "text": [
            "        ┌───┐            ░ ┌─┐   \n",
            "   q_0: ┤ H ├──■───■──X──░─┤M├───\n",
            "        ├───┤┌─┴─┐ │  │  ░ └╥┘┌─┐\n",
            "   q_1: ┤ H ├┤ X ├─■──X──░──╫─┤M├\n",
            "        └───┘└───┘       ░  ║ └╥┘\n",
            "   c: 2/════════════════════╬══╬═\n",
            "                            ║  ║ \n",
            "meas: 2/════════════════════╩══╩═\n",
            "                            0  1 \n",
            "Measurement Counts: {'00 00': 240, '01 00': 246, '11 00': 268, '10 00': 270}\n"
          ]
        }
      ]
    }
  ]
}