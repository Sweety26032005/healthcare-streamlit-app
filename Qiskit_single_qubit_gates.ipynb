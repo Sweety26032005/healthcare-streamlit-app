{
  "nbformat": 4,
  "nbformat_minor": 0,
  "metadata": {
    "colab": {
      "provenance": []
    },
    "kernelspec": {
      "name": "python3",
      "display_name": "Python 3"
    },
    "language_info": {
      "name": "python"
    }
  },
  "cells": [
    {
      "cell_type": "code",
      "source": [
        "!pip install qiskit qiskit-aer --upgrade"
      ],
      "metadata": {
        "id": "Mx6284lurNt1",
        "outputId": "d9d97ae4-8101-40d0-8e60-adf70e17b254",
        "colab": {
          "base_uri": "https://localhost:8080/"
        }
      },
      "execution_count": 1,
      "outputs": [
        {
          "output_type": "stream",
          "name": "stdout",
          "text": [
            "Collecting qiskit\n",
            "  Downloading qiskit-2.2.1-cp39-abi3-manylinux2014_x86_64.manylinux_2_17_x86_64.whl.metadata (12 kB)\n",
            "Collecting qiskit-aer\n",
            "  Downloading qiskit_aer-0.17.2-cp312-cp312-manylinux_2_17_x86_64.manylinux2014_x86_64.whl.metadata (8.3 kB)\n",
            "Collecting rustworkx>=0.15.0 (from qiskit)\n",
            "  Downloading rustworkx-0.17.1-cp39-abi3-manylinux_2_17_x86_64.manylinux2014_x86_64.whl.metadata (10 kB)\n",
            "Requirement already satisfied: numpy<3,>=1.17 in /usr/local/lib/python3.12/dist-packages (from qiskit) (2.0.2)\n",
            "Requirement already satisfied: scipy>=1.5 in /usr/local/lib/python3.12/dist-packages (from qiskit) (1.16.2)\n",
            "Requirement already satisfied: dill>=0.3 in /usr/local/lib/python3.12/dist-packages (from qiskit) (0.3.8)\n",
            "Collecting stevedore>=3.0.0 (from qiskit)\n",
            "  Downloading stevedore-5.5.0-py3-none-any.whl.metadata (2.2 kB)\n",
            "Requirement already satisfied: typing-extensions in /usr/local/lib/python3.12/dist-packages (from qiskit) (4.15.0)\n",
            "Requirement already satisfied: psutil>=5 in /usr/local/lib/python3.12/dist-packages (from qiskit-aer) (5.9.5)\n",
            "Requirement already satisfied: python-dateutil>=2.8.0 in /usr/local/lib/python3.12/dist-packages (from qiskit-aer) (2.9.0.post0)\n",
            "Requirement already satisfied: six>=1.5 in /usr/local/lib/python3.12/dist-packages (from python-dateutil>=2.8.0->qiskit-aer) (1.17.0)\n",
            "Downloading qiskit-2.2.1-cp39-abi3-manylinux2014_x86_64.manylinux_2_17_x86_64.whl (8.0 MB)\n",
            "\u001b[2K   \u001b[90m━━━━━━━━━━━━━━━━━━━━━━━━━━━━━━━━━━━━━━━━\u001b[0m \u001b[32m8.0/8.0 MB\u001b[0m \u001b[31m24.1 MB/s\u001b[0m eta \u001b[36m0:00:00\u001b[0m\n",
            "\u001b[?25hDownloading qiskit_aer-0.17.2-cp312-cp312-manylinux_2_17_x86_64.manylinux2014_x86_64.whl (12.4 MB)\n",
            "\u001b[2K   \u001b[90m━━━━━━━━━━━━━━━━━━━━━━━━━━━━━━━━━━━━━━━━\u001b[0m \u001b[32m12.4/12.4 MB\u001b[0m \u001b[31m43.7 MB/s\u001b[0m eta \u001b[36m0:00:00\u001b[0m\n",
            "\u001b[?25hDownloading rustworkx-0.17.1-cp39-abi3-manylinux_2_17_x86_64.manylinux2014_x86_64.whl (2.2 MB)\n",
            "\u001b[2K   \u001b[90m━━━━━━━━━━━━━━━━━━━━━━━━━━━━━━━━━━━━━━━━\u001b[0m \u001b[32m2.2/2.2 MB\u001b[0m \u001b[31m30.2 MB/s\u001b[0m eta \u001b[36m0:00:00\u001b[0m\n",
            "\u001b[?25hDownloading stevedore-5.5.0-py3-none-any.whl (49 kB)\n",
            "\u001b[2K   \u001b[90m━━━━━━━━━━━━━━━━━━━━━━━━━━━━━━━━━━━━━━━━\u001b[0m \u001b[32m49.5/49.5 kB\u001b[0m \u001b[31m2.1 MB/s\u001b[0m eta \u001b[36m0:00:00\u001b[0m\n",
            "\u001b[?25hInstalling collected packages: stevedore, rustworkx, qiskit, qiskit-aer\n",
            "Successfully installed qiskit-2.2.1 qiskit-aer-0.17.2 rustworkx-0.17.1 stevedore-5.5.0\n"
          ]
        }
      ]
    },
    {
      "cell_type": "code",
      "execution_count": 2,
      "metadata": {
        "id": "VPOwLacGrCdU",
        "outputId": "ae5620ff-e60e-46b6-da9a-d887edc5d352",
        "colab": {
          "base_uri": "https://localhost:8080/"
        }
      },
      "outputs": [
        {
          "output_type": "stream",
          "name": "stdout",
          "text": [
            "Quantum Circuit:\n",
            "        ┌───┐┌───┐┌───┐┌───┐┌─────────┐ ░ ┌─┐\n",
            "     q: ┤ X ├┤ H ├┤ S ├┤ T ├┤ Rz(0.5) ├─░─┤M├\n",
            "        └───┘└───┘└───┘└───┘└─────────┘ ░ └╥┘\n",
            "   c: 1/═══════════════════════════════════╬═\n",
            "                                           ║ \n",
            "meas: 1/═══════════════════════════════════╩═\n",
            "                                           0 \n",
            "\n",
            "Measurement Counts: {'0 0': 531, '1 0': 493}\n"
          ]
        }
      ],
      "source": [
        "from qiskit import QuantumCircuit, transpile\n",
        "from qiskit_aer import AerSimulator\n",
        "\n",
        "# Initialize simulator\n",
        "sim = AerSimulator()\n",
        "\n",
        "# Create a single-qubit circuit with one classical bit\n",
        "qc = QuantumCircuit(1, 1)\n",
        "\n",
        "# --- Apply sequence of single-qubit gates ---\n",
        "qc.x(0)        # Pauli-X (NOT gate)\n",
        "qc.h(0)        # Hadamard (superposition)\n",
        "qc.s(0)        # Phase gate (π/2)\n",
        "qc.t(0)        # T gate (π/4)\n",
        "qc.rz(0.5, 0)  # Z-axis rotation by 0.5 radians\n",
        "\n",
        "# Measure final state\n",
        "qc.measure_all()\n",
        "\n",
        "# Display circuit\n",
        "print(\"Quantum Circuit:\")\n",
        "print(qc.draw())\n",
        "\n",
        "# --- Run simulation ---\n",
        "compiled = transpile(qc, sim)\n",
        "result = sim.run(compiled, shots=1024).result()\n",
        "\n",
        "# --- Display results ---\n",
        "counts = result.get_counts()\n",
        "print(\"\\nMeasurement Counts:\", counts)\n"
      ]
    },
    {
      "cell_type": "code",
      "source": [
        "## Task 1: Swap X and H\n",
        "from qiskit import QuantumCircuit, transpile\n",
        "from qiskit_aer import AerSimulator\n",
        "\n",
        "sim = AerSimulator()\n",
        "qc = QuantumCircuit(1, 1)\n",
        "\n",
        "# Swapped order\n",
        "qc.h(0)\n",
        "qc.x(0)\n",
        "qc.s(0)\n",
        "qc.t(0)\n",
        "qc.rz(0.5, 0)\n",
        "qc.measure_all()\n",
        "\n",
        "compiled = transpile(qc, sim)\n",
        "result = sim.run(compiled, shots=1024).result()\n",
        "counts = result.get_counts()\n",
        "print(counts)\n"
      ],
      "metadata": {
        "id": "XXSzfpG9q7hc",
        "outputId": "8f2213c9-11da-449e-85cf-34701a4d7c61",
        "colab": {
          "base_uri": "https://localhost:8080/"
        }
      },
      "execution_count": 3,
      "outputs": [
        {
          "output_type": "stream",
          "name": "stdout",
          "text": [
            "{'0 0': 493, '1 0': 531}\n"
          ]
        }
      ]
    },
    {
      "cell_type": "code",
      "source": [
        "## Task 2: Vary RZ Rotation Angle\n",
        "import numpy as np\n",
        "angles = [np.pi/4, np.pi/2, np.pi]\n",
        "for angle in angles:\n",
        "    qc = QuantumCircuit(1, 1)\n",
        "    qc.x(0)\n",
        "    qc.h(0)\n",
        "    qc.s(0)\n",
        "    qc.t(0)\n",
        "    qc.rz(angle, 0)\n",
        "    qc.measure_all()\n",
        "\n",
        "    result = sim.run(transpile(qc, sim), shots=1024).result()\n",
        "    counts = result.get_counts()\n",
        "    print(f\"RZ({angle:.2f}) → {counts}\")"
      ],
      "metadata": {
        "id": "KERLIapJsGkC",
        "outputId": "f95f3af3-8754-4681-8035-2afa8f4f6336",
        "colab": {
          "base_uri": "https://localhost:8080/"
        }
      },
      "execution_count": 4,
      "outputs": [
        {
          "output_type": "stream",
          "name": "stdout",
          "text": [
            "RZ(0.79) → {'0 0': 510, '1 0': 514}\n",
            "RZ(1.57) → {'0 0': 501, '1 0': 523}\n",
            "RZ(3.14) → {'1 0': 521, '0 0': 503}\n"
          ]
        }
      ]
    },
    {
      "cell_type": "code",
      "source": [
        "## Task 3: Remove Hadamard Gate\n",
        "qc = QuantumCircuit(1, 1)\n",
        "qc.x(0)\n",
        "# qc.h(0)  # Removed\n",
        "qc.s(0)\n",
        "qc.t(0)\n",
        "qc.rz(0.5, 0)\n",
        "qc.measure_all()\n",
        "\n",
        "compiled = transpile(qc, sim)\n",
        "result = sim.run(compiled, shots=1024).result()\n",
        "counts = result.get_counts()\n",
        "print(counts)\n"
      ],
      "metadata": {
        "id": "-Nm-ki3NsOju",
        "outputId": "67aa11b2-dc4a-41a4-ac3b-d23e34976417",
        "colab": {
          "base_uri": "https://localhost:8080/"
        }
      },
      "execution_count": 5,
      "outputs": [
        {
          "output_type": "stream",
          "name": "stdout",
          "text": [
            "{'1 0': 1024}\n"
          ]
        }
      ]
    }
  ]
}