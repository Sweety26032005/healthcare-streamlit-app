{
  "cells": [
    {
      "cell_type": "markdown",
      "metadata": {
        "id": "X2W5OpxSv-y2"
      },
      "source": [
        "# Superposition and Entanglement in Qiskit\n",
        "This notebook demonstrates:\n",
        "1. **Superposition** using a single qubit.\n",
        "2. **Entanglement** using two qubits.\n",
        "We will use Qiskit to create circuits, visualize the states, and measure outcomes."
      ],
      "id": "X2W5OpxSv-y2"
    },
    {
      "cell_type": "code",
      "metadata": {
        "id": "NOQIWRacv-y3",
        "colab": {
          "base_uri": "https://localhost:8080/"
        },
        "outputId": "98581ec9-140d-411f-a799-d0e7644973a4"
      },
      "source": [
        "# ===========================\n",
        "# Install Qiskit, Aer and pylatexenc\n",
        "# ===========================\n",
        "!pip install qiskit --quiet\n",
        "!pip install qiskit-aer --quiet\n",
        "\n"
      ],
      "execution_count": 1,
      "outputs": [
        {
          "output_type": "stream",
          "name": "stdout",
          "text": [
            "\u001b[2K   \u001b[90m━━━━━━━━━━━━━━━━━━━━━━━━━━━━━━━━━━━━━━━━\u001b[0m \u001b[32m8.0/8.0 MB\u001b[0m \u001b[31m50.0 MB/s\u001b[0m eta \u001b[36m0:00:00\u001b[0m\n",
            "\u001b[2K   \u001b[90m━━━━━━━━━━━━━━━━━━━━━━━━━━━━━━━━━━━━━━━━\u001b[0m \u001b[32m2.2/2.2 MB\u001b[0m \u001b[31m82.6 MB/s\u001b[0m eta \u001b[36m0:00:00\u001b[0m\n",
            "\u001b[2K   \u001b[90m━━━━━━━━━━━━━━━━━━━━━━━━━━━━━━━━━━━━━━━━\u001b[0m \u001b[32m49.5/49.5 kB\u001b[0m \u001b[31m3.7 MB/s\u001b[0m eta \u001b[36m0:00:00\u001b[0m\n",
            "\u001b[2K   \u001b[90m━━━━━━━━━━━━━━━━━━━━━━━━━━━━━━━━━━━━━━━━\u001b[0m \u001b[32m12.4/12.4 MB\u001b[0m \u001b[31m79.9 MB/s\u001b[0m eta \u001b[36m0:00:00\u001b[0m\n",
            "\u001b[?25h"
          ]
        }
      ],
      "id": "NOQIWRacv-y3"
    },
    {
      "cell_type": "code",
      "metadata": {
        "id": "4vIIe5A0v-y4"
      },
      "source": [
        "# ===========================\n",
        "# Import Libraries\n",
        "# ===========================\n",
        "from qiskit import QuantumCircuit\n",
        "from qiskit_aer import AerSimulator\n",
        "from qiskit.visualization import plot_histogram, plot_bloch_multivector\n",
        "from qiskit.quantum_info import Statevector\n",
        "import matplotlib.pyplot as plt\n"
      ],
      "execution_count": 2,
      "outputs": [],
      "id": "4vIIe5A0v-y4"
    },
    {
      "cell_type": "markdown",
      "metadata": {
        "id": "B_QEU5O6v-y4"
      },
      "source": [
        "## 1. Superposition Example"
      ],
      "id": "B_QEU5O6v-y4"
    },
    {
      "cell_type": "code",
      "metadata": {
        "id": "mPhcfNBxv-y5",
        "colab": {
          "base_uri": "https://localhost:8080/"
        },
        "outputId": "6e1e76e5-aa22-4649-b937-3ab6d098aa8f"
      },
      "source": [
        "# ===========================\n",
        "# Superposition Example\n",
        "# ===========================\n",
        "# Create 1-qubit circuit\n",
        "qc_super = QuantumCircuit(1)\n",
        "\n",
        "# Apply Hadamard gate to create superposition\n",
        "qc_super.h(0)\n",
        "\n",
        "# Draw the circuit\n",
        "qc_super.draw('text')\n",
        "\n",
        "# Get statevector\n",
        "state_super = Statevector.from_instruction(qc_super)\n",
        "plot_bloch_multivector(state_super)\n",
        "plt.show()\n",
        "\n",
        "# Measure and simulate\n",
        "qc_super.measure_all()\n",
        "simulator = AerSimulator()\n",
        "job_super = simulator.run(qc_super, shots=1024)\n",
        "result_super = job_super.result()\n",
        "counts_super = result_super.get_counts()\n",
        "print(\"Superposition Measurement Counts:\", counts_super)\n",
        "plot_histogram(counts_super)\n",
        "plt.show()"
      ],
      "execution_count": 3,
      "outputs": [
        {
          "output_type": "stream",
          "name": "stdout",
          "text": [
            "Superposition Measurement Counts: {'1': 515, '0': 509}\n"
          ]
        }
      ],
      "id": "mPhcfNBxv-y5"
    },
    {
      "cell_type": "markdown",
      "metadata": {
        "id": "PWL3wDZWv-y6"
      },
      "source": [
        "## 2. Entanglement Example"
      ],
      "id": "PWL3wDZWv-y6"
    },
    {
      "cell_type": "code",
      "metadata": {
        "id": "dj2F4Yswv-y6",
        "colab": {
          "base_uri": "https://localhost:8080/"
        },
        "outputId": "332dbc5d-e789-4319-d173-0d0b01615a29"
      },
      "source": [
        "# ===========================\n",
        "# Entanglement Example\n",
        "# ===========================\n",
        "# Create 2-qubit circuit\n",
        "qc_ent = QuantumCircuit(2)\n",
        "\n",
        "# Apply Hadamard on qubit 0\n",
        "qc_ent.h(0)\n",
        "\n",
        "# Apply CNOT to entangle qubit 0 and 1\n",
        "qc_ent.cx(0, 1)\n",
        "\n",
        "# Draw the circuit\n",
        "qc_ent.draw('text')\n",
        "\n",
        "# Get statevector\n",
        "state_ent = Statevector.from_instruction(qc_ent)\n",
        "print(\"Entangled Statevector:\", state_ent)\n",
        "plot_bloch_multivector(state_ent)\n",
        "plt.show()\n",
        "\n",
        "# Measure and simulate\n",
        "qc_ent.measure_all()\n",
        "job_ent = simulator.run(qc_ent, shots=1024)\n",
        "result_ent = job_ent.result()\n",
        "counts_ent = result_ent.get_counts()\n",
        "print(\"Entanglement Measurement Counts:\", counts_ent)\n",
        "plot_histogram(counts_ent)\n",
        "plt.show()"
      ],
      "execution_count": 4,
      "outputs": [
        {
          "output_type": "stream",
          "name": "stdout",
          "text": [
            "Entangled Statevector: Statevector([0.70710678+0.j, 0.        +0.j, 0.        +0.j,\n",
            "             0.70710678+0.j],\n",
            "            dims=(2, 2))\n",
            "Entanglement Measurement Counts: {'11': 497, '00': 527}\n"
          ]
        }
      ],
      "id": "dj2F4Yswv-y6"
    },
    {
      "cell_type": "markdown",
      "source": [
        "Task 1"
      ],
      "metadata": {
        "id": "MevD7T96fZRv"
      },
      "id": "MevD7T96fZRv"
    },
    {
      "cell_type": "code",
      "source": [
        "# ===========================\n",
        "# Task 1: Superposition\n",
        "# ===========================\n",
        "from qiskit import transpile # Import transpile\n",
        "\n",
        "# Create 1-qubit circuit\n",
        "qc_super = QuantumCircuit(1, 1)  # add 1 classical bit for measurement\n",
        "\n",
        "# Apply Hadamard gate\n",
        "qc_super.h(0)\n",
        "\n",
        "# Measure the qubit\n",
        "qc_super.measure(0, 0)\n",
        "\n",
        "# Transpile and run the circuit\n",
        "compiled_super = transpile(qc_super, simulator)\n",
        "job_super = simulator.run(compiled_super, shots=1024)\n",
        "result_super = job_super.result()\n",
        "counts_super = result_super.get_counts()\n",
        "\n",
        "# Plot histogram\n",
        "print(\"Superposition Measurement Counts:\", counts_super)\n",
        "plot_histogram(counts_super)\n",
        "plt.show()"
      ],
      "metadata": {
        "colab": {
          "base_uri": "https://localhost:8080/"
        },
        "id": "1YrHhimpfbsw",
        "outputId": "b5d7107c-6105-4f63-8346-bc5f4d8b85ab"
      },
      "id": "1YrHhimpfbsw",
      "execution_count": 6,
      "outputs": [
        {
          "output_type": "stream",
          "name": "stdout",
          "text": [
            "Superposition Measurement Counts: {'0': 539, '1': 485}\n"
          ]
        }
      ]
    },
    {
      "cell_type": "markdown",
      "source": [
        "Task 2"
      ],
      "metadata": {
        "id": "1RHaiamgfdSQ"
      },
      "id": "1RHaiamgfdSQ"
    },
    {
      "cell_type": "code",
      "source": [
        "# ===========================\n",
        "# Task 2: Entanglement\n",
        "# ===========================\n",
        "# Create 2-qubit circuit with 2 classical bits\n",
        "qc_ent = QuantumCircuit(2, 2)\n",
        "\n",
        "# Apply Hadamard to qubit 0\n",
        "qc_ent.h(0)\n",
        "\n",
        "# Apply CNOT (entangling qubits 0 and 1)\n",
        "qc_ent.cx(0, 1)\n",
        "\n",
        "# Measure both qubits\n",
        "qc_ent.measure([0, 1], [0, 1])\n",
        "\n",
        "# Transpile and run\n",
        "compiled_ent = transpile(qc_ent, simulator)\n",
        "job_ent = simulator.run(compiled_ent, shots=1024)\n",
        "result_ent = job_ent.result()\n",
        "counts_ent = result_ent.get_counts()\n",
        "\n",
        "# Plot histogram\n",
        "print(\"Entanglement Measurement Counts:\", counts_ent)\n",
        "plot_histogram(counts_ent)\n",
        "plt.show()"
      ],
      "metadata": {
        "colab": {
          "base_uri": "https://localhost:8080/"
        },
        "id": "5i34RtZdffiW",
        "outputId": "986957c7-0497-4771-ceab-719c04daa43d"
      },
      "id": "5i34RtZdffiW",
      "execution_count": 7,
      "outputs": [
        {
          "output_type": "stream",
          "name": "stdout",
          "text": [
            "Entanglement Measurement Counts: {'00': 506, '11': 518}\n"
          ]
        }
      ]
    }
  ],
  "metadata": {
    "kernelspec": {
      "display_name": "Python 3",
      "language": "python",
      "name": "python3"
    },
    "language_info": {
      "name": "python",
      "version": "3.10"
    },
    "colab": {
      "provenance": []
    }
  },
  "nbformat": 4,
  "nbformat_minor": 5
}